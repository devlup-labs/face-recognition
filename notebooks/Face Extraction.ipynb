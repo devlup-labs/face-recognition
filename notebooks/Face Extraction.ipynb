{
 "cells": [
  {
   "cell_type": "code",
   "execution_count": 2,
   "id": "bbc7c52b",
   "metadata": {},
   "outputs": [],
   "source": [
    "import cv2\n",
    "import face_recognition as fc"
   ]
  },
  {
   "cell_type": "code",
   "execution_count": 3,
   "id": "93b0bef0",
   "metadata": {},
   "outputs": [
    {
     "name": "stdout",
     "output_type": "stream",
     "text": [
      "[(84, 127, 127, 84), (60, 371, 103, 328), (118, 296, 170, 245), (60, 213, 103, 170), (118, 429, 161, 386), (108, 535, 151, 491)]\n"
     ]
    },
    {
     "data": {
      "text/plain": [
       "-1"
      ]
     },
     "execution_count": 3,
     "metadata": {},
     "output_type": "execute_result"
    }
   ],
   "source": [
    "image = fc.load_image_file('Images/group-pic_test1.jpg')\n",
    "image = cv2.cvtColor(image, cv2.COLOR_BGR2RGB)\n",
    "face_location = fc.face_locations(image)\n",
    "print(face_location)\n",
    "\n",
    "for i in range(len(face_location)):\n",
    "    image = cv2.rectangle(image, (face_location[i][3],face_location[i][0]),(face_location[i][1],face_location[i][2]), (1000,0,0))\n",
    "    \n",
    "cv2.imshow('Test-1',image)\n",
    "cv2.waitKey(0)"
   ]
  }
 ],
 "metadata": {
  "kernelspec": {
   "display_name": "Python 3 (ipykernel)",
   "language": "python",
   "name": "python3"
  },
  "language_info": {
   "codemirror_mode": {
    "name": "ipython",
    "version": 3
   },
   "file_extension": ".py",
   "mimetype": "text/x-python",
   "name": "python",
   "nbconvert_exporter": "python",
   "pygments_lexer": "ipython3",
   "version": "3.8.8"
  }
 },
 "nbformat": 4,
 "nbformat_minor": 5
}
