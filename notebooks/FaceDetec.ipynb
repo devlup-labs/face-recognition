{
  "cells": [
    {
      "cell_type": "code",
      "execution_count": null,
      "metadata": {
        "id": "uOxzuOkcNzw2"
      },
      "outputs": [],
      "source": [
        "import dlib\n",
        "import cv2\n",
        "from google.colab.patches import cv2_imshow\n",
        "detector = dlib.get_frontal_face_detector()\n",
        "#image link inside quotes\n",
        "img = cv2.imread('')\n",
        "gray = cv2.cvtColor(img, cv2.COLOR_BGR2GRAY)\n",
        "faces = detector(gray, 1) # result\n",
        "#to draw faces on image\n",
        "for result in faces:\n",
        "    x = result.left()\n",
        "    y = result.top()\n",
        "    x1 = result.right()\n",
        "    y1 = result.bottom()\n",
        "    cv2.rectangle(img, (x, y), (x1, y1), (0, 0, 255), 2)\n",
        "cv2_imshow(img)\n",
        "# keep the window open until we press a key\n",
        "cv2.waitKey(0)\n",
        "# close the window\n",
        "cv2.destroyAllWindows()"
      ]
    }
  ],
  "metadata": {
    "colab": {
      "name": "FaceDetec.ipynb",
      "provenance": []
    },
    "kernelspec": {
      "display_name": "Python 3",
      "name": "python3"
    },
    "language_info": {
      "name": "python"
    }
  },
  "nbformat": 4,
  "nbformat_minor": 0
}
